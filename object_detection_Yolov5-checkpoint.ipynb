{
 "cells": [
  {
   "cell_type": "code",
   "execution_count": null,
   "id": "34f6fb09",
   "metadata": {},
   "outputs": [],
   "source": [
    "!git clone https://github.com/ultralytics/yolov5  # clone\n",
    "%cd yolov5\n",
    "%pip install -qr requirements.txt  # install\n",
    "\n",
    "import torch\n",
    "import utils\n",
    "display = utils.notebook_init()  # checks           # Not: Kodlar açık kaynak kodla yazılmıştır!"
   ]
  },
  {
   "cell_type": "code",
   "execution_count": null,
   "id": "3a2aafd0",
   "metadata": {},
   "outputs": [],
   "source": [
    "!unzip -q ../kırık_kemik.zip -d ../"
   ]
  },
  {
   "cell_type": "code",
   "execution_count": null,
   "id": "9762ccc6",
   "metadata": {},
   "outputs": [],
   "source": [
    "# Tensorboard  (optional)\n",
    "%load_ext tensorboard\n",
    "%tensorboard --logdir runs/train"
   ]
  },
  {
   "cell_type": "code",
   "execution_count": null,
   "id": "0133fd8c",
   "metadata": {},
   "outputs": [],
   "source": [
    "# Weights & Biases  (optional)\n",
    "%pip install -q wandb\n",
    "import wandb\n",
    "wandb.login()"
   ]
  },
  {
   "cell_type": "code",
   "execution_count": null,
   "id": "c7cad21f",
   "metadata": {},
   "outputs": [],
   "source": [
    "# Train YOLOv5s on COCO128 for 3 epochs\n",
    "!python train.py --img 640 --batch 16 --epochs 10 --data medicine.yaml --weights yolov5s.pt --cache"
   ]
  },
  {
   "cell_type": "code",
   "execution_count": null,
   "id": "abba8211",
   "metadata": {},
   "outputs": [],
   "source": [
    "train: ../kırık_kemik/images/train  # train images (relative to 'path') 128 images\n",
    "val: ../kırık_kemik/images/val  # val images (relative to 'path') 128 images\n",
    "\n",
    "\n",
    "# Classes\n",
    "nc: 1  # number of classes\n",
    "names: ['broken bone']  # class names"
   ]
  },
  {
   "cell_type": "code",
   "execution_count": null,
   "id": "0ed115aa",
   "metadata": {},
   "outputs": [],
   "source": []
  }
 ],
 "metadata": {
  "kernelspec": {
   "display_name": "Python 3",
   "language": "python",
   "name": "python3"
  },
  "language_info": {
   "codemirror_mode": {
    "name": "ipython",
    "version": 3
   },
   "file_extension": ".py",
   "mimetype": "text/x-python",
   "name": "python",
   "nbconvert_exporter": "python",
   "pygments_lexer": "ipython3",
   "version": "3.8.8"
  }
 },
 "nbformat": 4,
 "nbformat_minor": 5
}
